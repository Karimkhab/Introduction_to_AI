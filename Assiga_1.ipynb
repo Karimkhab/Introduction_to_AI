{
 "cells": [
  {
   "metadata": {
    "ExecuteTime": {
     "end_time": "2025-10-17T10:55:28.421349Z",
     "start_time": "2025-10-17T10:55:28.417046Z"
    }
   },
   "cell_type": "code",
   "source": [
    "import sys\n",
    "sys.stdin = open(\"input.txt\", \"r\", encoding=\"utf-8\")"
   ],
   "id": "34a9e5945a0b816a",
   "outputs": [],
   "execution_count": 439
  },
  {
   "metadata": {},
   "cell_type": "markdown",
   "source": "",
   "id": "f27fad93907346c9"
  },
  {
   "metadata": {
    "ExecuteTime": {
     "end_time": "2025-10-17T10:55:28.428254Z",
     "start_time": "2025-10-17T10:55:28.425895Z"
    }
   },
   "cell_type": "code",
   "source": [
    "class Character:\n",
    "    def __init__(self, name=\"Unknown\", x=None, y=None):\n",
    "        self.name = name\n",
    "        self.x = x\n",
    "        self.y = y"
   ],
   "id": "1998bfff83aadf3e",
   "outputs": [],
   "execution_count": 440
  },
  {
   "metadata": {},
   "cell_type": "markdown",
   "source": "",
   "id": "66c47f4d77e0095c"
  },
  {
   "metadata": {
    "ExecuteTime": {
     "end_time": "2025-10-17T10:55:28.436555Z",
     "start_time": "2025-10-17T10:55:28.433559Z"
    }
   },
   "cell_type": "code",
   "source": [
    "# Abstract Enemy\n",
    "class Enemy(Character):\n",
    "    def __init__(self, name, x=None, y=None):\n",
    "        super().__init__(name, x, y)\n",
    "\n",
    "# Enemies\n",
    "# -----------------------------------------------\n",
    "class OrcPatrol(Enemy):\n",
    "    def __init__(self, x=None, y=None):\n",
    "        super().__init__(\"Orc Patrol\", x, y)\n",
    "\n",
    "class UrukHai(Enemy):\n",
    "    def __init__(self, x=None, y=None):\n",
    "        super().__init__(\"UrukHai\", x, y)\n",
    "\n",
    "class Nazgul(Enemy):\n",
    "    def __init__(self, x=None, y=None):\n",
    "        super().__init__(\"Nazgul\", x, y)\n",
    "        \n",
    "class MordorWatchtower(Enemy):\n",
    "    def __init__(self, x=None, y=None):\n",
    "        super().__init__(\"Mordor Watchtower\", x, y)\n",
    "# -----------------------------------------------"
   ],
   "id": "361bc0c200d28e31",
   "outputs": [],
   "execution_count": 441
  },
  {
   "metadata": {},
   "cell_type": "markdown",
   "source": "",
   "id": "85d75bd08a043d9d"
  },
  {
   "metadata": {
    "ExecuteTime": {
     "end_time": "2025-10-17T10:55:28.443312Z",
     "start_time": "2025-10-17T10:55:28.440920Z"
    }
   },
   "cell_type": "code",
   "source": [
    "# Abstract Character\n",
    "class Goal(Character):\n",
    "    def __init__(self, name, x=None, y=None):\n",
    "        super().__init__(name, x, y)\n",
    "\n",
    "# Goal Characters\n",
    "# -----------------------------------------------\n",
    "class Gollum(Goal):\n",
    "    def __init__(self, x=None, y=None):\n",
    "        super().__init__(\"Gollum\", x, y)\n",
    "\n",
    "class MountDoom(Goal):\n",
    "    def __init__(self, x=None, y=None):\n",
    "        super().__init__(\"Mount Doom\", x, y)\n",
    "# -----------------------------------------------"
   ],
   "id": "a8a77bc29113cd7d",
   "outputs": [],
   "execution_count": 442
  },
  {
   "metadata": {},
   "cell_type": "markdown",
   "source": "",
   "id": "2d2409bfb39ca5f9"
  },
  {
   "metadata": {
    "ExecuteTime": {
     "end_time": "2025-10-17T10:55:28.451283Z",
     "start_time": "2025-10-17T10:55:28.447285Z"
    }
   },
   "cell_type": "code",
   "source": [
    "# -----------------------------------------------\n",
    "class FrodoAgent(Character):\n",
    "    def __init__(self, radius, gollum_x, gollum_y):\n",
    "        super().__init__(\"Frodo\", 0, 0)\n",
    "        # Позиция и параметры\n",
    "        self.radius = radius\n",
    "        self.goal = Gollum(gollum_x, gollum_y)\n",
    "        \n",
    "        self.map = Map(agent=self, goal=self.goal)\n",
    "\n",
    "    # --- сенсорика ---\n",
    "    def perceive(self, k):\n",
    "        def choose_type(type, x = None, y = None):\n",
    "            if type == 'P':\n",
    "                return None\n",
    "            if type == 'O':\n",
    "                return OrcPatrol(x, y)\n",
    "            if type == 'U':\n",
    "                return UrukHai(x, y)\n",
    "            if type == 'N':\n",
    "                return Nazgul(x, y)\n",
    "            if type == 'W':\n",
    "                return MordorWatchtower(x, y)\n",
    "            return None\n",
    "\n",
    "        # percepts = []\n",
    "        for _ in range(k):\n",
    "            x, y, type = input().split()\n",
    "            x, y, type = int(x), int(y), type\n",
    "            \n",
    "            self.map.place(choose_type(type,x, y),x, y)\n",
    "            \n",
    "\n",
    "    # --- планирование ---\n",
    "    def next_move(self, algorithm=\"A*\"):\n",
    "        pass\n",
    "\n",
    "    # --- движение ---\n",
    "    def move(self, nx, ny):\n",
    "        self.map.place(self, nx, ny)\n",
    "        self.x, self.y = nx, ny\n",
    "# -----------------------------------------------"
   ],
   "id": "6a30197fae6a0b89",
   "outputs": [],
   "execution_count": 443
  },
  {
   "metadata": {},
   "cell_type": "markdown",
   "source": "",
   "id": "f5a7f08c8edfcb66"
  },
  {
   "cell_type": "code",
   "id": "initial_id",
   "metadata": {
    "collapsed": true,
    "ExecuteTime": {
     "end_time": "2025-10-17T10:55:28.458278Z",
     "start_time": "2025-10-17T10:55:28.454991Z"
    }
   },
   "source": [
    "class Cell:\n",
    "    def __init__(self):\n",
    "        self.character = None\n",
    "        self.visited = False\n",
    "        self.danger = False\n",
    "\n",
    "    def change_character(self, new_character = None):\n",
    "        if isinstance(new_character, FrodoAgent):\n",
    "            self.change_visited()\n",
    "        self.character = new_character\n",
    "\n",
    "    def change_visited(self):\n",
    "        self.visited = not self.visited\n",
    "        \n",
    "    def draw(self):\n",
    "        if self.character:\n",
    "            return self.character.name[0]\n",
    "        if self.danger:\n",
    "            return '#'\n",
    "        if self.visited:\n",
    "            return '*'\n",
    "        return '.'\n",
    "    \n",
    "    def is_empty(self):\n",
    "        return self.character is None\n",
    "\n",
    "\n",
    "class Map:\n",
    "    def __init__(self, agent=None, goal=None):\n",
    "        self.size = 13\n",
    "        self.grid = [[Cell() for _ in range(self.size)] for _ in range(self.size)]\n",
    "\n",
    "        self.place(agent, agent.x, agent.y)\n",
    "        \n",
    "        self.place(goal, goal.x, goal.y)\n",
    "\n",
    "    def place(self, character, x, y):\n",
    "        if (character.x != x) and (character.y != y):\n",
    "            self.grid[character.x][character.y].change_character()\n",
    "        \n",
    "        self.grid[x][y].change_character(character)\n",
    "\n",
    "\n",
    "    def print_map(self):\n",
    "        for i in range(self.size):\n",
    "            row = []\n",
    "            for j in range(self.size):\n",
    "                row.append(self.grid[i][j].draw())\n",
    "            print(\" \".join(row))\n",
    "        print()"
   ],
   "outputs": [],
   "execution_count": 444
  },
  {
   "metadata": {},
   "cell_type": "markdown",
   "source": "",
   "id": "3e2fc99069574b2b"
  },
  {
   "metadata": {
    "ExecuteTime": {
     "end_time": "2025-10-17T10:56:14.268682Z",
     "start_time": "2025-10-17T10:55:28.461849Z"
    }
   },
   "cell_type": "code",
   "source": [
    "variant = int(input())          # 1 или 2\n",
    "gx, gy = map(int, input().split())\n",
    "frodo = FrodoAgent(variant, gx, gy)\n",
    "# frodo.move(3,4)\n",
    "# frodo.move(6,10)\n"
   ],
   "id": "d116125691afe94f",
   "outputs": [
    {
     "ename": "KeyboardInterrupt",
     "evalue": "Interrupted by user",
     "output_type": "error",
     "traceback": [
      "\u001B[0;31m---------------------------------------------------------------------------\u001B[0m",
      "\u001B[0;31mKeyboardInterrupt\u001B[0m                         Traceback (most recent call last)",
      "Cell \u001B[0;32mIn[445], line 1\u001B[0m\n\u001B[0;32m----> 1\u001B[0m variant \u001B[38;5;241m=\u001B[39m \u001B[38;5;28mint\u001B[39m(\u001B[38;5;28minput\u001B[39m())          \u001B[38;5;66;03m# 1 или 2\u001B[39;00m\n\u001B[1;32m      2\u001B[0m gx, gy \u001B[38;5;241m=\u001B[39m \u001B[38;5;28mmap\u001B[39m(\u001B[38;5;28mint\u001B[39m, \u001B[38;5;28minput\u001B[39m()\u001B[38;5;241m.\u001B[39msplit())\n\u001B[1;32m      3\u001B[0m frodo \u001B[38;5;241m=\u001B[39m FrodoAgent(variant, gx, gy)\n",
      "File \u001B[0;32m/opt/anaconda3/lib/python3.12/site-packages/ipykernel/kernelbase.py:1262\u001B[0m, in \u001B[0;36mKernel.raw_input\u001B[0;34m(self, prompt)\u001B[0m\n\u001B[1;32m   1260\u001B[0m     msg \u001B[38;5;241m=\u001B[39m \u001B[38;5;124m\"\u001B[39m\u001B[38;5;124mraw_input was called, but this frontend does not support input requests.\u001B[39m\u001B[38;5;124m\"\u001B[39m\n\u001B[1;32m   1261\u001B[0m     \u001B[38;5;28;01mraise\u001B[39;00m StdinNotImplementedError(msg)\n\u001B[0;32m-> 1262\u001B[0m \u001B[38;5;28;01mreturn\u001B[39;00m \u001B[38;5;28mself\u001B[39m\u001B[38;5;241m.\u001B[39m_input_request(\n\u001B[1;32m   1263\u001B[0m     \u001B[38;5;28mstr\u001B[39m(prompt),\n\u001B[1;32m   1264\u001B[0m     \u001B[38;5;28mself\u001B[39m\u001B[38;5;241m.\u001B[39m_parent_ident[\u001B[38;5;124m\"\u001B[39m\u001B[38;5;124mshell\u001B[39m\u001B[38;5;124m\"\u001B[39m],\n\u001B[1;32m   1265\u001B[0m     \u001B[38;5;28mself\u001B[39m\u001B[38;5;241m.\u001B[39mget_parent(\u001B[38;5;124m\"\u001B[39m\u001B[38;5;124mshell\u001B[39m\u001B[38;5;124m\"\u001B[39m),\n\u001B[1;32m   1266\u001B[0m     password\u001B[38;5;241m=\u001B[39m\u001B[38;5;28;01mFalse\u001B[39;00m,\n\u001B[1;32m   1267\u001B[0m )\n",
      "File \u001B[0;32m/opt/anaconda3/lib/python3.12/site-packages/ipykernel/kernelbase.py:1305\u001B[0m, in \u001B[0;36mKernel._input_request\u001B[0;34m(self, prompt, ident, parent, password)\u001B[0m\n\u001B[1;32m   1302\u001B[0m \u001B[38;5;28;01mexcept\u001B[39;00m \u001B[38;5;167;01mKeyboardInterrupt\u001B[39;00m:\n\u001B[1;32m   1303\u001B[0m     \u001B[38;5;66;03m# re-raise KeyboardInterrupt, to truncate traceback\u001B[39;00m\n\u001B[1;32m   1304\u001B[0m     msg \u001B[38;5;241m=\u001B[39m \u001B[38;5;124m\"\u001B[39m\u001B[38;5;124mInterrupted by user\u001B[39m\u001B[38;5;124m\"\u001B[39m\n\u001B[0;32m-> 1305\u001B[0m     \u001B[38;5;28;01mraise\u001B[39;00m \u001B[38;5;167;01mKeyboardInterrupt\u001B[39;00m(msg) \u001B[38;5;28;01mfrom\u001B[39;00m \u001B[38;5;28;01mNone\u001B[39;00m\n\u001B[1;32m   1306\u001B[0m \u001B[38;5;28;01mexcept\u001B[39;00m \u001B[38;5;167;01mException\u001B[39;00m:\n\u001B[1;32m   1307\u001B[0m     \u001B[38;5;28mself\u001B[39m\u001B[38;5;241m.\u001B[39mlog\u001B[38;5;241m.\u001B[39mwarning(\u001B[38;5;124m\"\u001B[39m\u001B[38;5;124mInvalid Message:\u001B[39m\u001B[38;5;124m\"\u001B[39m, exc_info\u001B[38;5;241m=\u001B[39m\u001B[38;5;28;01mTrue\u001B[39;00m)\n",
      "\u001B[0;31mKeyboardInterrupt\u001B[0m: Interrupted by user"
     ]
    }
   ],
   "execution_count": 445
  },
  {
   "metadata": {
    "ExecuteTime": {
     "end_time": "2025-10-17T10:56:14.326966Z",
     "start_time": "2025-10-17T10:54:27.544477Z"
    }
   },
   "cell_type": "code",
   "source": [
    "while True:\n",
    "    k = int(input())\n",
    "    if k == -1:\n",
    "        break  # конец (или ошибка, или завершение интерактора)\n",
    "\n",
    "    frodo.perceive(k)\n",
    "\n",
    "    break\n",
    "    # Агент принимает решение, куда идти дальше\n",
    "    # nx, ny = frodo.next_move()\n",
    "\n",
    "    # Отправляем действие\n",
    "    # print(f\"m {nx} {ny}\")"
   ],
   "id": "1a146356f2a103a8",
   "outputs": [],
   "execution_count": 429
  },
  {
   "metadata": {
    "ExecuteTime": {
     "end_time": "2025-10-17T10:56:14.327097Z",
     "start_time": "2025-10-17T10:54:34.086391Z"
    }
   },
   "cell_type": "code",
   "source": "frodo.map.print_map()",
   "id": "41774e4e628e9322",
   "outputs": [
    {
     "name": "stdout",
     "output_type": "stream",
     "text": [
      "F O . . . . . . . . . . .\n",
      ". . . . . . . . . . . . .\n",
      ". . . . . . . . . . . . .\n",
      ". . . . . . . . . . . . .\n",
      ". . . . . . . . . . . . .\n",
      ". . . . . . . . . . . . .\n",
      ". . . . . . . . G . . . .\n",
      ". . . . . . . . . . . . .\n",
      ". . . . . . . . . . . . .\n",
      ". . . . . . . . . . . . .\n",
      ". . . . . . . . . . . . .\n",
      ". . . . . . . . . . . . .\n",
      ". . . . . . . . . . . . .\n",
      "\n"
     ]
    }
   ],
   "execution_count": 430
  },
  {
   "metadata": {
    "ExecuteTime": {
     "end_time": "2025-10-17T10:56:14.327160Z",
     "start_time": "2025-10-17T10:54:34.173738Z"
    }
   },
   "cell_type": "code",
   "source": [
    "# frodo делает шаг -> x,y\n",
    "# далее получает новую инфу о мире цикл for и заполняет свою карту\n",
    "# принимает решение куда дальше идти и что делать в целом! -> заново"
   ],
   "id": "cfa7951eb6035dfb",
   "outputs": [],
   "execution_count": 431
  }
 ],
 "metadata": {
  "kernelspec": {
   "display_name": "Python 3",
   "language": "python",
   "name": "python3"
  },
  "language_info": {
   "codemirror_mode": {
    "name": "ipython",
    "version": 2
   },
   "file_extension": ".py",
   "mimetype": "text/x-python",
   "name": "python",
   "nbconvert_exporter": "python",
   "pygments_lexer": "ipython2",
   "version": "2.7.6"
  }
 },
 "nbformat": 4,
 "nbformat_minor": 5
}
